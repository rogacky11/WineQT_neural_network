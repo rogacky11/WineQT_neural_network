{
  "nbformat": 4,
  "nbformat_minor": 0,
  "metadata": {
    "colab": {
      "provenance": [],
      "gpuType": "T4",
      "authorship_tag": "ABX9TyMvt3+YBwJpJ5+UD8rKrJuT",
      "include_colab_link": true
    },
    "kernelspec": {
      "name": "python3",
      "display_name": "Python 3"
    },
    "language_info": {
      "name": "python"
    },
    "accelerator": "GPU"
  },
  "cells": [
    {
      "cell_type": "markdown",
      "metadata": {
        "id": "view-in-github",
        "colab_type": "text"
      },
      "source": [
        "<a href=\"https://colab.research.google.com/github/rogacky11/WineQT_neural_network/blob/main/Untitled4.ipynb\" target=\"_parent\"><img src=\"https://colab.research.google.com/assets/colab-badge.svg\" alt=\"Open In Colab\"/></a>"
      ]
    },
    {
      "cell_type": "code",
      "execution_count": null,
      "metadata": {
        "id": "a_8GyGHulJUz"
      },
      "outputs": [],
      "source": [
        "import pandas as pd\n",
        "import numpy as np\n",
        "from tensorflow import keras\n",
        "import seaborn as sns\n",
        "from keras.utils import to_categorical\n",
        "from sklearn.preprocessing import LabelEncoder, StandardScaler\n",
        "from keras import models, layers\n",
        "import matplotlib.pyplot as plt\n",
        "\n",
        "\n",
        "import torch\n",
        "import torch.nn as nn\n",
        "import torch.nn.functional as F"
      ]
    },
    {
      "cell_type": "code",
      "source": [
        "df = pd.read_csv('WineQT.csv')"
      ],
      "metadata": {
        "id": "fYq-RXbylKCV"
      },
      "execution_count": null,
      "outputs": []
    },
    {
      "cell_type": "code",
      "source": [
        "df.head(20)"
      ],
      "metadata": {
        "id": "DRzxhwSUlNdP"
      },
      "execution_count": null,
      "outputs": []
    },
    {
      "cell_type": "code",
      "source": [
        "df = df.drop('Id', axis=1)"
      ],
      "metadata": {
        "id": "sEVp8Xm2lOrk"
      },
      "execution_count": null,
      "outputs": []
    },
    {
      "cell_type": "code",
      "source": [
        "def map_quality(value):\n",
        "    return value - 3"
      ],
      "metadata": {
        "id": "BbNz5ODAYB-k"
      },
      "execution_count": null,
      "outputs": []
    },
    {
      "cell_type": "code",
      "source": [
        "df['quality'] = df['quality'].map(map_quality)"
      ],
      "metadata": {
        "id": "h4Y3I-l9YoDz"
      },
      "execution_count": null,
      "outputs": []
    },
    {
      "cell_type": "code",
      "source": [
        "X = df.drop('quality', axis = 1)\n",
        "y = df['quality']\n",
        "X = X.values\n",
        "y = y.values"
      ],
      "metadata": {
        "id": "iNx87uT9lQEV"
      },
      "execution_count": null,
      "outputs": []
    },
    {
      "cell_type": "code",
      "source": [
        "df['quality'].value_counts()"
      ],
      "metadata": {
        "id": "TCtwlVnMl1OM"
      },
      "execution_count": null,
      "outputs": []
    },
    {
      "cell_type": "code",
      "source": [
        "from sklearn.model_selection import train_test_split\n",
        "x_train, x_test, y_train, y_test = train_test_split(X, y, test_size=.2, shuffle=True,  random_state=50)"
      ],
      "metadata": {
        "id": "Epp05f3ulRDg"
      },
      "execution_count": null,
      "outputs": []
    },
    {
      "cell_type": "code",
      "source": [
        "X.shape"
      ],
      "metadata": {
        "id": "bhyUzYZRQc2h"
      },
      "execution_count": null,
      "outputs": []
    },
    {
      "cell_type": "code",
      "source": [
        "df.dtypes"
      ],
      "metadata": {
        "id": "aDTgV9Cbnnue"
      },
      "execution_count": null,
      "outputs": []
    },
    {
      "cell_type": "code",
      "source": [
        "# mean = x_train.mean(axis = 0)\n",
        "# x_train -=mean\n",
        "# std = x_train.std(axis = 0)\n",
        "# x_train /= std\n",
        "\n",
        "# x_test -= mean\n",
        "# x_test /= std"
      ],
      "metadata": {
        "id": "gwAsw9GEPcqB"
      },
      "execution_count": null,
      "outputs": []
    },
    {
      "cell_type": "code",
      "source": [
        "x_train"
      ],
      "metadata": {
        "colab": {
          "base_uri": "https://localhost:8080/"
        },
        "id": "PsYJEH2VQaEL",
        "outputId": "9116a3db-24f7-4a02-f1f0-a67e451d8fb8"
      },
      "execution_count": null,
      "outputs": [
        {
          "output_type": "execute_result",
          "data": {
            "text/plain": [
              "array([[ 8.6 ,  0.52,  0.38, ...,  3.2 ,  0.52,  9.4 ],\n",
              "       [ 7.5 ,  0.51,  0.02, ...,  3.36,  0.54, 10.5 ],\n",
              "       [11.2 ,  0.66,  0.24, ...,  3.06,  0.72, 11.  ],\n",
              "       ...,\n",
              "       [ 8.3 ,  0.61,  0.3 , ...,  3.4 ,  0.61, 10.2 ],\n",
              "       [ 6.7 ,  0.62,  0.21, ...,  3.52,  0.58,  9.3 ],\n",
              "       [ 7.1 ,  0.68,  0.  , ...,  3.48,  0.5 ,  9.3 ]])"
            ]
          },
          "metadata": {},
          "execution_count": 19
        }
      ]
    },
    {
      "cell_type": "code",
      "source": [
        "\n",
        "one_hot_train_y = to_categorical(y_train)\n",
        "one_hot_test_y = to_categorical(y_test)\n",
        "print(one_hot_train_y[1])"
      ],
      "metadata": {
        "colab": {
          "base_uri": "https://localhost:8080/"
        },
        "id": "KpkusakAlXD3",
        "outputId": "832d3d27-9ebb-4c28-fc7d-f1b415697224"
      },
      "execution_count": null,
      "outputs": [
        {
          "output_type": "stream",
          "name": "stdout",
          "text": [
            "[0. 0. 0. 1. 0. 0.]\n"
          ]
        }
      ]
    },
    {
      "cell_type": "code",
      "source": [
        "model = models.Sequential()\n",
        "model.add(layers.Dense(16, activation = 'relu', input_shape = (11,)))\n",
        "model.add(layers.Dense(16, activation = 'relu'))\n",
        "model.add(layers.Dense(16, activation = 'relu'))\n",
        "model.add(layers.Dense(6, activation = 'sigmoid'))"
      ],
      "metadata": {
        "id": "HyEg28MtEeu3"
      },
      "execution_count": null,
      "outputs": []
    },
    {
      "cell_type": "code",
      "source": [],
      "metadata": {
        "id": "7doAd3a9E5vU"
      },
      "execution_count": null,
      "outputs": []
    },
    {
      "cell_type": "code",
      "source": [
        "x_val = x_train[:500]\n",
        "partial_x_train = x_train[500:]\n",
        "\n",
        "y_val = one_hot_train_y[:500]\n",
        "partial_y_train = one_hot_train_y[500:]"
      ],
      "metadata": {
        "id": "4jw4UxmdFDCN"
      },
      "execution_count": null,
      "outputs": []
    },
    {
      "cell_type": "code",
      "source": [
        "model.compile(optimizer = 'Adam', loss ='binary_crossentropy', metrics = ['acc'])\n",
        "history = model.fit(x_train, one_hot_train_y, epochs = 1000, batch_size = 90)"
      ],
      "metadata": {
        "id": "rkmDzhftG_ai"
      },
      "execution_count": null,
      "outputs": []
    },
    {
      "cell_type": "code",
      "source": [
        "y_test"
      ],
      "metadata": {
        "id": "93ZiCmqmfwn-"
      },
      "execution_count": null,
      "outputs": []
    },
    {
      "cell_type": "code",
      "source": [
        "result = model.predict(x_test)"
      ],
      "metadata": {
        "id": "YHHuCeOgbl_9"
      },
      "execution_count": null,
      "outputs": []
    },
    {
      "cell_type": "code",
      "source": [
        "pred = np.argmax(result, axis = 1)\n",
        "print(pred)"
      ],
      "metadata": {
        "id": "nl6cJJQogEzB"
      },
      "execution_count": null,
      "outputs": []
    },
    {
      "cell_type": "code",
      "source": [
        "proc = pred[pred==y_test]\n",
        "print(len(proc)/len(y_test))"
      ],
      "metadata": {
        "id": "VeDXUMWGg7Bw"
      },
      "execution_count": null,
      "outputs": []
    },
    {
      "cell_type": "code",
      "source": [
        "history_dict = history.history\n",
        "history_dict.keys()"
      ],
      "metadata": {
        "id": "twjkQ2LHbt7G"
      },
      "execution_count": null,
      "outputs": []
    },
    {
      "cell_type": "code",
      "source": [
        "acc = history.history['acc']\n",
        "loss = history.history['loss']\n",
        "\n",
        "epochs = range(1, len(acc) + 1)\n",
        "\n",
        "plt.title('strata trenowania i walidacji')\n",
        "plt.xlabel('epoki')\n",
        "plt.ylabel('strata')\n",
        "plt.legend()\n",
        "\n",
        "plt.show()"
      ],
      "metadata": {
        "colab": {
          "base_uri": "https://localhost:8080/",
          "height": 509
        },
        "id": "1d_2VAN1SwlS",
        "outputId": "eedaf559-d886-4015-97f8-1069c78aeca5"
      },
      "execution_count": null,
      "outputs": [
        {
          "output_type": "stream",
          "name": "stderr",
          "text": [
            "WARNING:matplotlib.legend:No artists with labels found to put in legend.  Note that artists whose label start with an underscore are ignored when legend() is called with no argument.\n"
          ]
        },
        {
          "output_type": "display_data",
          "data": {
            "text/plain": [
              "<Figure size 640x480 with 1 Axes>"
            ],
            "image/png": "[encoded data removed]"
          },
          "metadata": {}
        }
      ]
    }
  ]
}