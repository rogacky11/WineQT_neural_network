{
  "cells": [
    {
      "cell_type": "markdown",
      "metadata": {
        "id": "view-in-github",
        "colab_type": "text"
      },
      "source": [
        "<a href=\"https://colab.research.google.com/github/rogacky11/WineQT_neural_network/blob/main/WineQT_podzia%C5%82_2_kategorie.ipynb\" target=\"_parent\"><img src=\"https://colab.research.google.com/assets/colab-badge.svg\" alt=\"Open In Colab\"/></a>"
      ]
    },
    {
      "cell_type": "code",
      "execution_count": null,
      "metadata": {
        "id": "a_8GyGHulJUz"
      },
      "outputs": [],
      "source": [
        "import pandas as pd\n",
        "import numpy as np\n",
        "import seaborn as sns\n",
        "from tensorflow import keras\n",
        "from keras.utils import to_categorical\n",
        "from sklearn.preprocessing import LabelEncoder, StandardScaler\n",
        "from keras import models, layers\n",
        "import matplotlib.pyplot as plt"
      ]
    },
    {
      "cell_type": "code",
      "execution_count": null,
      "metadata": {
        "id": "76hodrA53iTW"
      },
      "outputs": [],
      "source": [
        "# from google.colab import drive\n",
        "# drive.mount('/content/drive')"
      ]
    },
    {
      "cell_type": "markdown",
      "metadata": {
        "id": "6j2ovT4TnUJh"
      },
      "source": [
        "\n",
        "\n",
        "---\n",
        "\n",
        "\n",
        "1.   Wczytanie danych z pliku CSV 'WineQT.csv' do zmiennej df.\n",
        "2.   Usunięcie kolumny 'Id', która jest zbędną informacją.\n",
        "3.   Wyświetlenie pierwszych 10 wierszy."
      ]
    },
    {
      "cell_type": "code",
      "execution_count": null,
      "metadata": {
        "colab": {
          "base_uri": "https://localhost:8080/",
          "height": 363
        },
        "id": "fYq-RXbylKCV",
        "outputId": "30aa746c-acab-4db7-a964-4cf5f4627fcd"
      },
      "outputs": [
        {
          "output_type": "execute_result",
          "data": {
            "text/plain": [
              "   fixed acidity  volatile acidity  citric acid  residual sugar  chlorides  \\\n",
              "0            7.4              0.70         0.00             1.9      0.076   \n",
              "1            7.8              0.88         0.00             2.6      0.098   \n",
              "2            7.8              0.76         0.04             2.3      0.092   \n",
              "3           11.2              0.28         0.56             1.9      0.075   \n",
              "4            7.4              0.70         0.00             1.9      0.076   \n",
              "5            7.4              0.66         0.00             1.8      0.075   \n",
              "6            7.9              0.60         0.06             1.6      0.069   \n",
              "7            7.3              0.65         0.00             1.2      0.065   \n",
              "8            7.8              0.58         0.02             2.0      0.073   \n",
              "9            6.7              0.58         0.08             1.8      0.097   \n",
              "\n",
              "   free sulfur dioxide  total sulfur dioxide  density    pH  sulphates  \\\n",
              "0                 11.0                  34.0   0.9978  3.51       0.56   \n",
              "1                 25.0                  67.0   0.9968  3.20       0.68   \n",
              "2                 15.0                  54.0   0.9970  3.26       0.65   \n",
              "3                 17.0                  60.0   0.9980  3.16       0.58   \n",
              "4                 11.0                  34.0   0.9978  3.51       0.56   \n",
              "5                 13.0                  40.0   0.9978  3.51       0.56   \n",
              "6                 15.0                  59.0   0.9964  3.30       0.46   \n",
              "7                 15.0                  21.0   0.9946  3.39       0.47   \n",
              "8                  9.0                  18.0   0.9968  3.36       0.57   \n",
              "9                 15.0                  65.0   0.9959  3.28       0.54   \n",
              "\n",
              "   alcohol  quality  \n",
              "0      9.4        5  \n",
              "1      9.8        5  \n",
              "2      9.8        5  \n",
              "3      9.8        6  \n",
              "4      9.4        5  \n",
              "5      9.4        5  \n",
              "6      9.4        5  \n",
              "7     10.0        7  \n",
              "8      9.5        7  \n",
              "9      9.2        5  "
            ],
            "text/html": [
              "\n",
              "  <div id=\"df-24a7ccf0-d5b8-49c4-9d20-8f4359731b80\" class=\"colab-df-container\">\n",
              "    <div>\n",
              "<style scoped>\n",
              "    .dataframe tbody tr th:only-of-type {\n",
              "        vertical-align: middle;\n",
              "    }\n",
              "\n",
              "    .dataframe tbody tr th {\n",
              "        vertical-align: top;\n",
              "    }\n",
              "\n",
              "    .dataframe thead th {\n",
              "        text-align: right;\n",
              "    }\n",
              "</style>\n",
              "<table border=\"1\" class=\"dataframe\">\n",
              "  <thead>\n",
              "    <tr style=\"text-align: right;\">\n",
              "      <th></th>\n",
              "      <th>fixed acidity</th>\n",
              "      <th>volatile acidity</th>\n",
              "      <th>citric acid</th>\n",
              "      <th>residual sugar</th>\n",
              "      <th>chlorides</th>\n",
              "      <th>free sulfur dioxide</th>\n",
              "      <th>total sulfur dioxide</th>\n",
              "      <th>density</th>\n",
              "      <th>pH</th>\n",
              "      <th>sulphates</th>\n",
              "      <th>alcohol</th>\n",
              "      <th>quality</th>\n",
              "    </tr>\n",
              "  </thead>\n",
              "  <tbody>\n",
              "    <tr>\n",
              "      <th>0</th>\n",
              "      <td>7.4</td>\n",
              "      <td>0.70</td>\n",
              "      <td>0.00</td>\n",
              "      <td>1.9</td>\n",
              "      <td>0.076</td>\n",
              "      <td>11.0</td>\n",
              "      <td>34.0</td>\n",
              "      <td>0.9978</td>\n",
              "      <td>3.51</td>\n",
              "      <td>0.56</td>\n",
              "      <td>9.4</td>\n",
              "      <td>5</td>\n",
              "    </tr>\n",
              "    <tr>\n",
              "      <th>1</th>\n",
              "      <td>7.8</td>\n",
              "      <td>0.88</td>\n",
              "      <td>0.00</td>\n",
              "      <td>2.6</td>\n",
              "      <td>0.098</td>\n",
              "      <td>25.0</td>\n",
              "      <td>67.0</td>\n",
              "      <td>0.9968</td>\n",
              "      <td>3.20</td>\n",
              "      <td>0.68</td>\n",
              "      <td>9.8</td>\n",
              "      <td>5</td>\n",
              "    </tr>\n",
              "    <tr>\n",
              "      <th>2</th>\n",
              "      <td>7.8</td>\n",
              "      <td>0.76</td>\n",
              "      <td>0.04</td>\n",
              "      <td>2.3</td>\n",
              "      <td>0.092</td>\n",
              "      <td>15.0</td>\n",
              "      <td>54.0</td>\n",
              "      <td>0.9970</td>\n",
              "      <td>3.26</td>\n",
              "      <td>0.65</td>\n",
              "      <td>9.8</td>\n",
              "      <td>5</td>\n",
              "    </tr>\n",
              "    <tr>\n",
              "      <th>3</th>\n",
              "      <td>11.2</td>\n",
              "      <td>0.28</td>\n",
              "      <td>0.56</td>\n",
              "      <td>1.9</td>\n",
              "      <td>0.075</td>\n",
              "      <td>17.0</td>\n",
              "      <td>60.0</td>\n",
              "      <td>0.9980</td>\n",
              "      <td>3.16</td>\n",
              "      <td>0.58</td>\n",
              "      <td>9.8</td>\n",
              "      <td>6</td>\n",
              "    </tr>\n",
              "    <tr>\n",
              "      <th>4</th>\n",
              "      <td>7.4</td>\n",
              "      <td>0.70</td>\n",
              "      <td>0.00</td>\n",
              "      <td>1.9</td>\n",
              "      <td>0.076</td>\n",
              "      <td>11.0</td>\n",
              "      <td>34.0</td>\n",
              "      <td>0.9978</td>\n",
              "      <td>3.51</td>\n",
              "      <td>0.56</td>\n",
              "      <td>9.4</td>\n",
              "      <td>5</td>\n",
              "    </tr>\n",
              "    <tr>\n",
              "      <th>5</th>\n",
              "      <td>7.4</td>\n",
              "      <td>0.66</td>\n",
              "      <td>0.00</td>\n",
              "      <td>1.8</td>\n",
              "      <td>0.075</td>\n",
              "      <td>13.0</td>\n",
              "      <td>40.0</td>\n",
              "      <td>0.9978</td>\n",
              "      <td>3.51</td>\n",
              "      <td>0.56</td>\n",
              "      <td>9.4</td>\n",
              "      <td>5</td>\n",
              "    </tr>\n",
              "    <tr>\n",
              "      <th>6</th>\n",
              "      <td>7.9</td>\n",
              "      <td>0.60</td>\n",
              "      <td>0.06</td>\n",
              "      <td>1.6</td>\n",
              "      <td>0.069</td>\n",
              "      <td>15.0</td>\n",
              "      <td>59.0</td>\n",
              "      <td>0.9964</td>\n",
              "      <td>3.30</td>\n",
              "      <td>0.46</td>\n",
              "      <td>9.4</td>\n",
              "      <td>5</td>\n",
              "    </tr>\n",
              "    <tr>\n",
              "      <th>7</th>\n",
              "      <td>7.3</td>\n",
              "      <td>0.65</td>\n",
              "      <td>0.00</td>\n",
              "      <td>1.2</td>\n",
              "      <td>0.065</td>\n",
              "      <td>15.0</td>\n",
              "      <td>21.0</td>\n",
              "      <td>0.9946</td>\n",
              "      <td>3.39</td>\n",
              "      <td>0.47</td>\n",
              "      <td>10.0</td>\n",
              "      <td>7</td>\n",
              "    </tr>\n",
              "    <tr>\n",
              "      <th>8</th>\n",
              "      <td>7.8</td>\n",
              "      <td>0.58</td>\n",
              "      <td>0.02</td>\n",
              "      <td>2.0</td>\n",
              "      <td>0.073</td>\n",
              "      <td>9.0</td>\n",
              "      <td>18.0</td>\n",
              "      <td>0.9968</td>\n",
              "      <td>3.36</td>\n",
              "      <td>0.57</td>\n",
              "      <td>9.5</td>\n",
              "      <td>7</td>\n",
              "    </tr>\n",
              "    <tr>\n",
              "      <th>9</th>\n",
              "      <td>6.7</td>\n",
              "      <td>0.58</td>\n",
              "      <td>0.08</td>\n",
              "      <td>1.8</td>\n",
              "      <td>0.097</td>\n",
              "      <td>15.0</td>\n",
              "      <td>65.0</td>\n",
              "      <td>0.9959</td>\n",
              "      <td>3.28</td>\n",
              "      <td>0.54</td>\n",
              "      <td>9.2</td>\n",
              "      <td>5</td>\n",
              "    </tr>\n",
              "  </tbody>\n",
              "</table>\n",
              "</div>\n",
              "    <div class=\"colab-df-buttons\">\n",
              "\n",
              "  <div class=\"colab-df-container\">\n",
              "    <button class=\"colab-df-convert\" onclick=\"convertToInteractive('df-24a7ccf0-d5b8-49c4-9d20-8f4359731b80')\"\n",
              "            title=\"Convert this dataframe to an interactive table.\"\n",
              "            style=\"display:none;\">\n",
              "\n",
              "  <svg xmlns=\"http://www.w3.org/2000/svg\" height=\"24px\" viewBox=\"0 -960 960 960\">\n",
              "    <path d=\"M120-120v-720h720v720H120Zm60-500h600v-160H180v160Zm220 220h160v-160H400v160Zm0 220h160v-160H400v160ZM180-400h160v-160H180v160Zm440 0h160v-160H620v160ZM180-180h160v-160H180v160Zm440 0h160v-160H620v160Z\"/>\n",
              "  </svg>\n",
              "    </button>\n",
              "\n",
              "  <style>\n",
              "    .colab-df-container {\n",
              "      display:flex;\n",
              "      gap: 12px;\n",
              "    }\n",
              "\n",
              "    .colab-df-convert {\n",
              "      background-color: #E8F0FE;\n",
              "      border: none;\n",
              "      border-radius: 50%;\n",
              "      cursor: pointer;\n",
              "      display: none;\n",
              "      fill: #1967D2;\n",
              "      height: 32px;\n",
              "      padding: 0 0 0 0;\n",
              "      width: 32px;\n",
              "    }\n",
              "\n",
              "    .colab-df-convert:hover {\n",
              "      background-color: #E2EBFA;\n",
              "      box-shadow: 0px 1px 2px rgba(60, 64, 67, 0.3), 0px 1px 3px 1px rgba(60, 64, 67, 0.15);\n",
              "      fill: #174EA6;\n",
              "    }\n",
              "\n",
              "    .colab-df-buttons div {\n",
              "      margin-bottom: 4px;\n",
              "    }\n",
              "\n",
              "    [theme=dark] .colab-df-convert {\n",
              "      background-color: #3B4455;\n",
              "      fill: #D2E3FC;\n",
              "    }\n",
              "\n",
              "    [theme=dark] .colab-df-convert:hover {\n",
              "      background-color: #434B5C;\n",
              "      box-shadow: 0px 1px 3px 1px rgba(0, 0, 0, 0.15);\n",
              "      filter: drop-shadow(0px 1px 2px rgba(0, 0, 0, 0.3));\n",
              "      fill: #FFFFFF;\n",
              "    }\n",
              "  </style>\n",
              "\n",
              "    <script>\n",
              "      const buttonEl =\n",
              "        document.querySelector('#df-24a7ccf0-d5b8-49c4-9d20-8f4359731b80 button.colab-df-convert');\n",
              "      buttonEl.style.display =\n",
              "        google.colab.kernel.accessAllowed ? 'block' : 'none';\n",
              "\n",
              "      async function convertToInteractive(key) {\n",
              "        const element = document.querySelector('#df-24a7ccf0-d5b8-49c4-9d20-8f4359731b80');\n",
              "        const dataTable =\n",
              "          await google.colab.kernel.invokeFunction('convertToInteractive',\n",
              "                                                    [key], {});\n",
              "        if (!dataTable) return;\n",
              "\n",
              "        const docLinkHtml = 'Like what you see? Visit the ' +\n",
              "          '<a target=\"_blank\" href=https://colab.research.google.com/notebooks/data_table.ipynb>data table notebook</a>'\n",
              "          + ' to learn more about interactive tables.';\n",
              "        element.innerHTML = '';\n",
              "        dataTable['output_type'] = 'display_data';\n",
              "        await google.colab.output.renderOutput(dataTable, element);\n",
              "        const docLink = document.createElement('div');\n",
              "        docLink.innerHTML = docLinkHtml;\n",
              "        element.appendChild(docLink);\n",
              "      }\n",
              "    </script>\n",
              "  </div>\n",
              "\n",
              "\n",
              "<div id=\"df-9d6aaedb-aa28-492f-a2ac-b4bb444e4cd1\">\n",
              "  <button class=\"colab-df-quickchart\" onclick=\"quickchart('df-9d6aaedb-aa28-492f-a2ac-b4bb444e4cd1')\"\n",
              "            title=\"Suggest charts\"\n",
              "            style=\"display:none;\">\n",
              "\n",
              "<svg xmlns=\"http://www.w3.org/2000/svg\" height=\"24px\"viewBox=\"0 0 24 24\"\n",
              "     width=\"24px\">\n",
              "    <g>\n",
              "        <path d=\"M19 3H5c-1.1 0-2 .9-2 2v14c0 1.1.9 2 2 2h14c1.1 0 2-.9 2-2V5c0-1.1-.9-2-2-2zM9 17H7v-7h2v7zm4 0h-2V7h2v10zm4 0h-2v-4h2v4z\"/>\n",
              "    </g>\n",
              "</svg>\n",
              "  </button>\n",
              "\n",
              "<style>\n",
              "  .colab-df-quickchart {\n",
              "      --bg-color: #E8F0FE;\n",
              "      --fill-color: #1967D2;\n",
              "      --hover-bg-color: #E2EBFA;\n",
              "      --hover-fill-color: #174EA6;\n",
              "      --disabled-fill-color: #AAA;\n",
              "      --disabled-bg-color: #DDD;\n",
              "  }\n",
              "\n",
              "  [theme=dark] .colab-df-quickchart {\n",
              "      --bg-color: #3B4455;\n",
              "      --fill-color: #D2E3FC;\n",
              "      --hover-bg-color: #434B5C;\n",
              "      --hover-fill-color: #FFFFFF;\n",
              "      --disabled-bg-color: #3B4455;\n",
              "      --disabled-fill-color: #666;\n",
              "  }\n",
              "\n",
              "  .colab-df-quickchart {\n",
              "    background-color: var(--bg-color);\n",
              "    border: none;\n",
              "    border-radius: 50%;\n",
              "    cursor: pointer;\n",
              "    display: none;\n",
              "    fill: var(--fill-color);\n",
              "    height: 32px;\n",
              "    padding: 0;\n",
              "    width: 32px;\n",
              "  }\n",
              "\n",
              "  .colab-df-quickchart:hover {\n",
              "    background-color: var(--hover-bg-color);\n",
              "    box-shadow: 0 1px 2px rgba(60, 64, 67, 0.3), 0 1px 3px 1px rgba(60, 64, 67, 0.15);\n",
              "    fill: var(--button-hover-fill-color);\n",
              "  }\n",
              "\n",
              "  .colab-df-quickchart-complete:disabled,\n",
              "  .colab-df-quickchart-complete:disabled:hover {\n",
              "    background-color: var(--disabled-bg-color);\n",
              "    fill: var(--disabled-fill-color);\n",
              "    box-shadow: none;\n",
              "  }\n",
              "\n",
              "  .colab-df-spinner {\n",
              "    border: 2px solid var(--fill-color);\n",
              "    border-color: transparent;\n",
              "    border-bottom-color: var(--fill-color);\n",
              "    animation:\n",
              "      spin 1s steps(1) infinite;\n",
              "  }\n",
              "\n",
              "  @keyframes spin {\n",
              "    0% {\n",
              "      border-color: transparent;\n",
              "      border-bottom-color: var(--fill-color);\n",
              "      border-left-color: var(--fill-color);\n",
              "    }\n",
              "    20% {\n",
              "      border-color: transparent;\n",
              "      border-left-color: var(--fill-color);\n",
              "      border-top-color: var(--fill-color);\n",
              "    }\n",
              "    30% {\n",
              "      border-color: transparent;\n",
              "      border-left-color: var(--fill-color);\n",
              "      border-top-color: var(--fill-color);\n",
              "      border-right-color: var(--fill-color);\n",
              "    }\n",
              "    40% {\n",
              "      border-color: transparent;\n",
              "      border-right-color: var(--fill-color);\n",
              "      border-top-color: var(--fill-color);\n",
              "    }\n",
              "    60% {\n",
              "      border-color: transparent;\n",
              "      border-right-color: var(--fill-color);\n",
              "    }\n",
              "    80% {\n",
              "      border-color: transparent;\n",
              "      border-right-color: var(--fill-color);\n",
              "      border-bottom-color: var(--fill-color);\n",
              "    }\n",
              "    90% {\n",
              "      border-color: transparent;\n",
              "      border-bottom-color: var(--fill-color);\n",
              "    }\n",
              "  }\n",
              "</style>\n",
              "\n",
              "  <script>\n",
              "    async function quickchart(key) {\n",
              "      const quickchartButtonEl =\n",
              "        document.querySelector('#' + key + ' button');\n",
              "      quickchartButtonEl.disabled = true;  // To prevent multiple clicks.\n",
              "      quickchartButtonEl.classList.add('colab-df-spinner');\n",
              "      try {\n",
              "        const charts = await google.colab.kernel.invokeFunction(\n",
              "            'suggestCharts', [key], {});\n",
              "      } catch (error) {\n",
              "        console.error('Error during call to suggestCharts:', error);\n",
              "      }\n",
              "      quickchartButtonEl.classList.remove('colab-df-spinner');\n",
              "      quickchartButtonEl.classList.add('colab-df-quickchart-complete');\n",
              "    }\n",
              "    (() => {\n",
              "      let quickchartButtonEl =\n",
              "        document.querySelector('#df-9d6aaedb-aa28-492f-a2ac-b4bb444e4cd1 button');\n",
              "      quickchartButtonEl.style.display =\n",
              "        google.colab.kernel.accessAllowed ? 'block' : 'none';\n",
              "    })();\n",
              "  </script>\n",
              "</div>\n",
              "    </div>\n",
              "  </div>\n"
            ]
          },
          "metadata": {},
          "execution_count": 64
        }
      ],
      "source": [
        "df = pd.read_csv('WineQT.csv')\n",
        "df = df.drop('Id', axis=1)\n",
        "df.head(10)\n"
      ]
    },
    {
      "cell_type": "markdown",
      "metadata": {
        "id": "s_6ZhOzxoT-t"
      },
      "source": [
        "\n",
        "\n",
        "---\n",
        "\n",
        "\n",
        "1.   Zdefiniowanie funkcji 'map_quality', która odejmuje od wartości w kolumnie 'quality' wartość 3.\n",
        "2.   Normalizacja danych w tej kolumnie.\n"
      ]
    },
    {
      "cell_type": "code",
      "execution_count": null,
      "metadata": {
        "id": "BbNz5ODAYB-k"
      },
      "outputs": [],
      "source": [
        "# def map_quality(value):\n",
        "#     return value - 3"
      ]
    },
    {
      "cell_type": "code",
      "execution_count": null,
      "metadata": {
        "id": "iEC9VphgqKWT"
      },
      "outputs": [],
      "source": [
        "# df['quality'] = df['quality'].map(map_quality)"
      ]
    },
    {
      "cell_type": "markdown",
      "metadata": {
        "id": "FIIK-SzUosDN"
      },
      "source": [
        "\n",
        "\n",
        "\n",
        "---\n",
        "\n",
        "\n",
        "1.   Podzielenie danych na cechy 'X' i etykiety 'Y'.\n",
        "2.   Przekształcenie ich do postaci tablicy wartości za pomocą '.values'.\n",
        "\n"
      ]
    },
    {
      "cell_type": "code",
      "execution_count": null,
      "metadata": {
        "id": "iNx87uT9lQEV"
      },
      "outputs": [],
      "source": [
        "X = df.drop('quality', axis = 1)\n",
        "X = X.values\n",
        "\n",
        "Y = df['quality']\n",
        "Y = Y.values"
      ]
    },
    {
      "cell_type": "code",
      "execution_count": null,
      "metadata": {
        "colab": {
          "base_uri": "https://localhost:8080/"
        },
        "id": "hUoUpw9rqUEY",
        "outputId": "ae611756-3801-4e96-e28c-c2e7425fcf9e"
      },
      "outputs": [
        {
          "output_type": "execute_result",
          "data": {
            "text/plain": [
              "5    483\n",
              "6    462\n",
              "7    143\n",
              "4     33\n",
              "8     16\n",
              "3      6\n",
              "Name: quality, dtype: int64"
            ]
          },
          "metadata": {},
          "execution_count": 68
        }
      ],
      "source": [
        "df['quality'].value_counts()"
      ]
    },
    {
      "cell_type": "code",
      "source": [
        "print(Y[:20])\n",
        "bins = [0, 5.5, 8]\n",
        "labels = ['bad','good']\n",
        "Y = pd.cut(Y, bins = bins, labels = labels)\n",
        "print(Y[:20])"
      ],
      "metadata": {
        "colab": {
          "base_uri": "https://localhost:8080/"
        },
        "id": "uIBvr_wbrqMK",
        "outputId": "fa185560-9fba-4753-855a-a32accd9a548"
      },
      "execution_count": null,
      "outputs": [
        {
          "output_type": "stream",
          "name": "stdout",
          "text": [
            "[5 5 5 6 5 5 5 7 7 5 5 5 7 6 5 5 5 6 5 5]\n",
            "['bad', 'bad', 'bad', 'good', 'bad', ..., 'bad', 'bad', 'good', 'bad', 'bad']\n",
            "Length: 20\n",
            "Categories (2, object): ['bad' < 'good']\n"
          ]
        }
      ]
    },
    {
      "cell_type": "code",
      "source": [
        "le = LabelEncoder()\n",
        "Y = le.fit_transform(Y)\n",
        "print(Y[:20])"
      ],
      "metadata": {
        "colab": {
          "base_uri": "https://localhost:8080/"
        },
        "id": "y6UdVeIBvNqV",
        "outputId": "aab971ff-aa5c-4fa0-bd08-323f82144f6c"
      },
      "execution_count": null,
      "outputs": [
        {
          "output_type": "stream",
          "name": "stdout",
          "text": [
            "[0 0 0 1 0 0 0 1 1 0 0 0 1 1 0 0 0 1 0 0]\n"
          ]
        }
      ]
    },
    {
      "cell_type": "code",
      "source": [
        "sc = StandardScaler()\n",
        "sc.fit_transform(X)\n",
        "X.shape"
      ],
      "metadata": {
        "colab": {
          "base_uri": "https://localhost:8080/"
        },
        "id": "51OYJVG-vZYL",
        "outputId": "758d4adb-ed50-4234-b61d-8787756d882e"
      },
      "execution_count": null,
      "outputs": [
        {
          "output_type": "execute_result",
          "data": {
            "text/plain": [
              "(1143, 11)"
            ]
          },
          "metadata": {},
          "execution_count": 71
        }
      ]
    },
    {
      "cell_type": "code",
      "source": [
        "Y.shape"
      ],
      "metadata": {
        "colab": {
          "base_uri": "https://localhost:8080/"
        },
        "id": "xe3co1C0mIRN",
        "outputId": "e0f6493c-e4c9-497e-eda6-c6f2ce337eb8"
      },
      "execution_count": null,
      "outputs": [
        {
          "output_type": "execute_result",
          "data": {
            "text/plain": [
              "(1143,)"
            ]
          },
          "metadata": {},
          "execution_count": 72
        }
      ]
    },
    {
      "cell_type": "markdown",
      "metadata": {
        "id": "ZGfioYDxp2sf"
      },
      "source": [
        "\n",
        "\n",
        "---\n",
        "\n",
        "\n",
        "Podział danych na zbiory treningowe i testowe (x_train, x_test, y_train, y_test) używając funkcji train_test_split z biblioteki Scikit-Learn.\n",
        "\n",
        "\n"
      ]
    },
    {
      "cell_type": "code",
      "execution_count": null,
      "metadata": {
        "id": "Epp05f3ulRDg"
      },
      "outputs": [],
      "source": [
        "from sklearn.model_selection import train_test_split\n",
        "x_train_tosplit, x_test, y_train_tosplit, y_test = train_test_split(X, Y, test_size=.2, shuffle=True,  random_state=50)\n",
        "x_train, x_val, y_train, y_val = train_test_split(x_train_tosplit, y_train_tosplit, test_size=.2, shuffle=True,  random_state=50)"
      ]
    },
    {
      "cell_type": "code",
      "execution_count": null,
      "metadata": {
        "colab": {
          "base_uri": "https://localhost:8080/"
        },
        "id": "bhyUzYZRQc2h",
        "outputId": "42ac1d4b-6ae7-480b-83ab-3dd6f646c58f"
      },
      "outputs": [
        {
          "output_type": "stream",
          "name": "stdout",
          "text": [
            "(1143, 11) (731, 11) (229, 11) (183, 11)\n"
          ]
        }
      ],
      "source": [
        "print(X.shape, x_train.shape, x_test.shape, x_val.shape)\n",
        "# print(Y.shape, y_train.shape, y_test.shape)\n"
      ]
    },
    {
      "cell_type": "code",
      "execution_count": null,
      "metadata": {
        "colab": {
          "base_uri": "https://localhost:8080/"
        },
        "id": "aDTgV9Cbnnue",
        "outputId": "0b5f7d7f-a752-4937-a91b-4d471261a849"
      },
      "outputs": [
        {
          "output_type": "execute_result",
          "data": {
            "text/plain": [
              "fixed acidity           float64\n",
              "volatile acidity        float64\n",
              "citric acid             float64\n",
              "residual sugar          float64\n",
              "chlorides               float64\n",
              "free sulfur dioxide     float64\n",
              "total sulfur dioxide    float64\n",
              "density                 float64\n",
              "pH                      float64\n",
              "sulphates               float64\n",
              "alcohol                 float64\n",
              "quality                   int64\n",
              "dtype: object"
            ]
          },
          "metadata": {},
          "execution_count": 75
        }
      ],
      "source": [
        "df.dtypes"
      ]
    },
    {
      "cell_type": "code",
      "source": [
        "print(y_test)"
      ],
      "metadata": {
        "colab": {
          "base_uri": "https://localhost:8080/"
        },
        "id": "rqkyRW4zz1vA",
        "outputId": "a7684e46-87b3-48ac-c785-cea149bef911"
      },
      "execution_count": null,
      "outputs": [
        {
          "output_type": "stream",
          "name": "stdout",
          "text": [
            "[1 1 0 1 0 0 0 0 1 0 1 1 1 0 1 0 1 0 0 0 1 1 0 1 1 0 0 1 1 1 0 1 1 0 1 1 0\n",
            " 1 1 0 0 0 1 1 0 1 1 1 0 0 0 1 1 1 0 1 0 0 1 0 1 0 1 1 1 1 1 0 1 0 0 0 0 1\n",
            " 0 1 0 1 1 1 1 1 0 0 0 0 1 1 1 0 1 0 0 0 1 0 1 1 0 1 0 1 0 0 0 1 1 0 1 0 0\n",
            " 0 0 1 0 1 0 1 1 0 1 1 0 0 1 1 1 0 1 1 1 0 1 0 0 1 0 0 1 1 1 0 0 1 1 0 0 1\n",
            " 1 0 1 0 1 0 1 0 0 0 0 1 1 1 0 1 1 0 1 1 0 0 1 1 0 0 0 1 0 0 0 0 1 0 1 1 0\n",
            " 1 0 1 0 0 0 0 1 0 0 0 1 1 0 0 1 1 1 1 0 1 1 0 1 0 0 1 1 1 1 0 0 1 0 0 1 1\n",
            " 0 0 1 0 1 0 1]\n"
          ]
        }
      ]
    },
    {
      "cell_type": "markdown",
      "metadata": {
        "id": "bG2lp9airO0p"
      },
      "source": [
        "\n",
        "\n",
        "---\n",
        "\n",
        "Zamiana etykiet na kodowanie kategoryczne za pomocą to_categorical z Kerasa."
      ]
    },
    {
      "cell_type": "code",
      "execution_count": null,
      "metadata": {
        "colab": {
          "base_uri": "https://localhost:8080/"
        },
        "id": "KpkusakAlXD3",
        "outputId": "477c8144-6948-4bb5-ec32-8bd4b319368d"
      },
      "outputs": [
        {
          "output_type": "stream",
          "name": "stdout",
          "text": [
            "[1 1 1 1 0 0 0 0 1 0] [1 1 0 1 0 0 0 0 1 0]\n",
            "[[0. 1.]\n",
            " [0. 1.]\n",
            " [0. 1.]\n",
            " [0. 1.]\n",
            " [1. 0.]] [[0. 1.]\n",
            " [0. 1.]\n",
            " [1. 0.]\n",
            " [0. 1.]\n",
            " [1. 0.]]\n"
          ]
        }
      ],
      "source": [
        "print(y_train[:10], y_test[:10])\n",
        "one_hot_train_y = to_categorical(y_train)\n",
        "one_hot_test_y = to_categorical(y_test)\n",
        "print(one_hot_train_y[:5], one_hot_test_y[:5])\n",
        "\n",
        "one_hot_val_y = to_categorical(y_val)\n",
        "# print(one_hot_val_y[:1])"
      ]
    },
    {
      "cell_type": "markdown",
      "metadata": {
        "id": "KNUB4kP2r4gA"
      },
      "source": [
        "\n",
        "\n",
        "---\n",
        "\n",
        "Definicja modelu sieci neuronowej za pomocą Kerasa, składającego się z warstw gęstych (Dense) z funkcją aktywacji ReLU i warstwy wyjściowej z funkcją aktywacji sigmoidalnej."
      ]
    },
    {
      "cell_type": "code",
      "execution_count": null,
      "metadata": {
        "id": "HyEg28MtEeu3"
      },
      "outputs": [],
      "source": [
        "model = models.Sequential()\n",
        "model.add(layers.Dense(16, activation = 'relu', input_shape = (11,)))\n",
        "model.add(layers.Dense(32, activation = 'relu'))\n",
        "model.add(layers.Dense(16, activation = 'relu'))\n",
        "model.add(layers.Dense(2, activation = 'sigmoid'))"
      ]
    },
    {
      "cell_type": "code",
      "source": [
        "# from keras.callbacks import EarlyStopping, LearningRateScheduler\n",
        "\n",
        "# early_stopping = EarlyStopping(monitor='val_loss',\n",
        "#                                patience=3,\n",
        "#                                restore_best_weights=True,\n",
        "#                                mode='min',\n",
        "#                               )"
      ],
      "metadata": {
        "id": "rK5C-kOUmPHM"
      },
      "execution_count": 2,
      "outputs": []
    },
    {
      "cell_type": "markdown",
      "metadata": {
        "id": "6WvlFCbEsAEp"
      },
      "source": [
        "\n",
        "\n",
        "---\n",
        "Kompilacja modelu z wybranym optymalizatorem, funkcją straty i metrykami do monitorowania podczas trenowania.\n"
      ]
    },
    {
      "cell_type": "code",
      "execution_count": null,
      "metadata": {
        "colab": {
          "base_uri": "https://localhost:8080/"
        },
        "id": "rkmDzhftG_ai",
        "outputId": "501ec517-603a-433a-81d4-9c1e9232fa32"
      },
      "outputs": [
        {
          "output_type": "stream",
          "name": "stdout",
          "text": [
            "Model: \"sequential_2\"\n",
            "_________________________________________________________________\n",
            " Layer (type)                Output Shape              Param #   \n",
            "=================================================================\n",
            " dense_8 (Dense)             (None, 16)                192       \n",
            "                                                                 \n",
            " dense_9 (Dense)             (None, 32)                544       \n",
            "                                                                 \n",
            " dense_10 (Dense)            (None, 16)                528       \n",
            "                                                                 \n",
            " dense_11 (Dense)            (None, 2)                 34        \n",
            "                                                                 \n",
            "=================================================================\n",
            "Total params: 1,298\n",
            "Trainable params: 1,298\n",
            "Non-trainable params: 0\n",
            "_________________________________________________________________\n",
            "Epoch 1/100\n",
            "9/9 [==============================] - 2s 44ms/step - loss: 4.6715 - acc: 0.4596 - val_loss: 1.4813 - val_acc: 0.4918\n",
            "Epoch 2/100\n",
            "9/9 [==============================] - 0s 10ms/step - loss: 1.7714 - acc: 0.4747 - val_loss: 1.4103 - val_acc: 0.4918\n",
            "Epoch 3/100\n",
            "9/9 [==============================] - 0s 8ms/step - loss: 1.3652 - acc: 0.4870 - val_loss: 1.1474 - val_acc: 0.5301\n",
            "Epoch 4/100\n",
            "9/9 [==============================] - 0s 9ms/step - loss: 1.1453 - acc: 0.5212 - val_loss: 0.9757 - val_acc: 0.5519\n",
            "Epoch 5/100\n",
            "9/9 [==============================] - 0s 8ms/step - loss: 0.9754 - acc: 0.5308 - val_loss: 0.7976 - val_acc: 0.6339\n",
            "Epoch 6/100\n",
            "9/9 [==============================] - 0s 8ms/step - loss: 0.8395 - acc: 0.5622 - val_loss: 0.7258 - val_acc: 0.6284\n",
            "Epoch 7/100\n",
            "9/9 [==============================] - 0s 11ms/step - loss: 0.7641 - acc: 0.6224 - val_loss: 0.6678 - val_acc: 0.6667\n",
            "Epoch 8/100\n",
            "9/9 [==============================] - 0s 9ms/step - loss: 0.7156 - acc: 0.6375 - val_loss: 0.6662 - val_acc: 0.6557\n",
            "Epoch 9/100\n",
            "9/9 [==============================] - 0s 10ms/step - loss: 0.6952 - acc: 0.6279 - val_loss: 0.6341 - val_acc: 0.6557\n",
            "Epoch 10/100\n",
            "9/9 [==============================] - 0s 9ms/step - loss: 0.6902 - acc: 0.6183 - val_loss: 0.6308 - val_acc: 0.6503\n",
            "Epoch 11/100\n",
            "9/9 [==============================] - 0s 9ms/step - loss: 0.6829 - acc: 0.6389 - val_loss: 0.6316 - val_acc: 0.6503\n",
            "Epoch 12/100\n",
            "9/9 [==============================] - 0s 9ms/step - loss: 0.6573 - acc: 0.6279 - val_loss: 0.6250 - val_acc: 0.6612\n",
            "Epoch 13/100\n",
            "9/9 [==============================] - 0s 9ms/step - loss: 0.6530 - acc: 0.6211 - val_loss: 0.6235 - val_acc: 0.6557\n",
            "Epoch 14/100\n",
            "9/9 [==============================] - 0s 9ms/step - loss: 0.6587 - acc: 0.6443 - val_loss: 0.6925 - val_acc: 0.6011\n",
            "Epoch 15/100\n",
            "9/9 [==============================] - 0s 10ms/step - loss: 0.7384 - acc: 0.5964 - val_loss: 0.6198 - val_acc: 0.6230\n",
            "Epoch 16/100\n",
            "9/9 [==============================] - 0s 11ms/step - loss: 0.6905 - acc: 0.5951 - val_loss: 0.6241 - val_acc: 0.6339\n",
            "Epoch 17/100\n",
            "9/9 [==============================] - 0s 10ms/step - loss: 0.6615 - acc: 0.6238 - val_loss: 0.6140 - val_acc: 0.6667\n",
            "Epoch 18/100\n",
            "9/9 [==============================] - 0s 11ms/step - loss: 0.6429 - acc: 0.6306 - val_loss: 0.6180 - val_acc: 0.6612\n",
            "Epoch 19/100\n",
            "9/9 [==============================] - 0s 9ms/step - loss: 0.6399 - acc: 0.6525 - val_loss: 0.6497 - val_acc: 0.6230\n",
            "Epoch 20/100\n",
            "9/9 [==============================] - 0s 8ms/step - loss: 0.6376 - acc: 0.6279 - val_loss: 0.6299 - val_acc: 0.6230\n",
            "Epoch 21/100\n",
            "9/9 [==============================] - 0s 6ms/step - loss: 0.6772 - acc: 0.6252 - val_loss: 0.6398 - val_acc: 0.6284\n",
            "Epoch 22/100\n",
            "9/9 [==============================] - 0s 8ms/step - loss: 0.6333 - acc: 0.6553 - val_loss: 0.6133 - val_acc: 0.6557\n",
            "Epoch 23/100\n",
            "9/9 [==============================] - 0s 6ms/step - loss: 0.6347 - acc: 0.6512 - val_loss: 0.6136 - val_acc: 0.6503\n",
            "Epoch 24/100\n",
            "9/9 [==============================] - 0s 8ms/step - loss: 0.6429 - acc: 0.6607 - val_loss: 0.6306 - val_acc: 0.6503\n",
            "Epoch 25/100\n",
            "9/9 [==============================] - 0s 8ms/step - loss: 0.6372 - acc: 0.6539 - val_loss: 0.6386 - val_acc: 0.6393\n",
            "Epoch 26/100\n",
            "9/9 [==============================] - 0s 8ms/step - loss: 0.6351 - acc: 0.6389 - val_loss: 0.6199 - val_acc: 0.6557\n",
            "Epoch 27/100\n",
            "9/9 [==============================] - 0s 6ms/step - loss: 0.6418 - acc: 0.6320 - val_loss: 0.6112 - val_acc: 0.6448\n",
            "Epoch 28/100\n",
            "9/9 [==============================] - 0s 6ms/step - loss: 0.6337 - acc: 0.6553 - val_loss: 0.6209 - val_acc: 0.6503\n",
            "Epoch 29/100\n",
            "9/9 [==============================] - 0s 8ms/step - loss: 0.6232 - acc: 0.6457 - val_loss: 0.6103 - val_acc: 0.6448\n",
            "Epoch 30/100\n",
            "9/9 [==============================] - 0s 8ms/step - loss: 0.6398 - acc: 0.6744 - val_loss: 0.6453 - val_acc: 0.6393\n",
            "Epoch 31/100\n",
            "9/9 [==============================] - 0s 8ms/step - loss: 0.6265 - acc: 0.6676 - val_loss: 0.6150 - val_acc: 0.6557\n",
            "Epoch 32/100\n",
            "9/9 [==============================] - 0s 6ms/step - loss: 0.6225 - acc: 0.6498 - val_loss: 0.6114 - val_acc: 0.6448\n",
            "Epoch 33/100\n",
            "9/9 [==============================] - 0s 8ms/step - loss: 0.6293 - acc: 0.6689 - val_loss: 0.6896 - val_acc: 0.5847\n",
            "Epoch 34/100\n",
            "9/9 [==============================] - 0s 9ms/step - loss: 0.6589 - acc: 0.6129 - val_loss: 0.6139 - val_acc: 0.6393\n",
            "Epoch 35/100\n",
            "9/9 [==============================] - 0s 8ms/step - loss: 0.6404 - acc: 0.6306 - val_loss: 0.6069 - val_acc: 0.6776\n",
            "Epoch 36/100\n",
            "9/9 [==============================] - 0s 6ms/step - loss: 0.6198 - acc: 0.6539 - val_loss: 0.6328 - val_acc: 0.6448\n",
            "Epoch 37/100\n",
            "9/9 [==============================] - 0s 8ms/step - loss: 0.6172 - acc: 0.6580 - val_loss: 0.6186 - val_acc: 0.6448\n",
            "Epoch 38/100\n",
            "9/9 [==============================] - 0s 8ms/step - loss: 0.6195 - acc: 0.6580 - val_loss: 0.6174 - val_acc: 0.6284\n",
            "Epoch 39/100\n",
            "9/9 [==============================] - 0s 7ms/step - loss: 0.6396 - acc: 0.6471 - val_loss: 0.6307 - val_acc: 0.6448\n",
            "Epoch 40/100\n",
            "9/9 [==============================] - 0s 7ms/step - loss: 0.6127 - acc: 0.6758 - val_loss: 0.6236 - val_acc: 0.6393\n",
            "Epoch 41/100\n",
            "9/9 [==============================] - 0s 9ms/step - loss: 0.6175 - acc: 0.6484 - val_loss: 0.6125 - val_acc: 0.6284\n",
            "Epoch 42/100\n",
            "9/9 [==============================] - 0s 8ms/step - loss: 0.6352 - acc: 0.6525 - val_loss: 0.6256 - val_acc: 0.6230\n",
            "Epoch 43/100\n",
            "9/9 [==============================] - 0s 6ms/step - loss: 0.6538 - acc: 0.6402 - val_loss: 0.6480 - val_acc: 0.6120\n",
            "Epoch 44/100\n",
            "9/9 [==============================] - 0s 8ms/step - loss: 0.6184 - acc: 0.6607 - val_loss: 0.6217 - val_acc: 0.6393\n",
            "Epoch 45/100\n",
            "9/9 [==============================] - 0s 8ms/step - loss: 0.6138 - acc: 0.6785 - val_loss: 0.6638 - val_acc: 0.5683\n",
            "Epoch 46/100\n",
            "9/9 [==============================] - 0s 6ms/step - loss: 0.6205 - acc: 0.6389 - val_loss: 0.6055 - val_acc: 0.6393\n",
            "Epoch 47/100\n",
            "9/9 [==============================] - 0s 6ms/step - loss: 0.6260 - acc: 0.6430 - val_loss: 0.6039 - val_acc: 0.6503\n",
            "Epoch 48/100\n",
            "9/9 [==============================] - 0s 8ms/step - loss: 0.6200 - acc: 0.6525 - val_loss: 0.6224 - val_acc: 0.6393\n",
            "Epoch 49/100\n",
            "9/9 [==============================] - 0s 6ms/step - loss: 0.6105 - acc: 0.6621 - val_loss: 0.6594 - val_acc: 0.5847\n",
            "Epoch 50/100\n",
            "9/9 [==============================] - 0s 8ms/step - loss: 0.6807 - acc: 0.5896 - val_loss: 0.6825 - val_acc: 0.6175\n",
            "Epoch 51/100\n",
            "9/9 [==============================] - 0s 9ms/step - loss: 0.6553 - acc: 0.6060 - val_loss: 0.6096 - val_acc: 0.6230\n",
            "Epoch 52/100\n",
            "9/9 [==============================] - 0s 6ms/step - loss: 0.6629 - acc: 0.6566 - val_loss: 0.8037 - val_acc: 0.5464\n",
            "Epoch 53/100\n",
            "9/9 [==============================] - 0s 6ms/step - loss: 0.6759 - acc: 0.6279 - val_loss: 0.6123 - val_acc: 0.6339\n",
            "Epoch 54/100\n",
            "9/9 [==============================] - 0s 6ms/step - loss: 0.6334 - acc: 0.6402 - val_loss: 0.6078 - val_acc: 0.6339\n",
            "Epoch 55/100\n",
            "9/9 [==============================] - 0s 6ms/step - loss: 0.6407 - acc: 0.6621 - val_loss: 0.6813 - val_acc: 0.6011\n",
            "Epoch 56/100\n",
            "9/9 [==============================] - 0s 6ms/step - loss: 0.6290 - acc: 0.6498 - val_loss: 0.6219 - val_acc: 0.6393\n",
            "Epoch 57/100\n",
            "9/9 [==============================] - 0s 6ms/step - loss: 0.6163 - acc: 0.6498 - val_loss: 0.6145 - val_acc: 0.6339\n",
            "Epoch 58/100\n",
            "9/9 [==============================] - 0s 6ms/step - loss: 0.6203 - acc: 0.6553 - val_loss: 0.6262 - val_acc: 0.6284\n",
            "Epoch 59/100\n",
            "9/9 [==============================] - 0s 6ms/step - loss: 0.6036 - acc: 0.6799 - val_loss: 0.6110 - val_acc: 0.6503\n",
            "Epoch 60/100\n",
            "9/9 [==============================] - 0s 8ms/step - loss: 0.6047 - acc: 0.6635 - val_loss: 0.6177 - val_acc: 0.6448\n",
            "Epoch 61/100\n",
            "9/9 [==============================] - 0s 6ms/step - loss: 0.6142 - acc: 0.6662 - val_loss: 0.6118 - val_acc: 0.6448\n",
            "Epoch 62/100\n",
            "9/9 [==============================] - 0s 8ms/step - loss: 0.6105 - acc: 0.6717 - val_loss: 0.6470 - val_acc: 0.5956\n",
            "Epoch 63/100\n",
            "9/9 [==============================] - 0s 6ms/step - loss: 0.6009 - acc: 0.6826 - val_loss: 0.6037 - val_acc: 0.6230\n",
            "Epoch 64/100\n",
            "9/9 [==============================] - 0s 9ms/step - loss: 0.5983 - acc: 0.6758 - val_loss: 0.6153 - val_acc: 0.6448\n",
            "Epoch 65/100\n",
            "9/9 [==============================] - 0s 6ms/step - loss: 0.5988 - acc: 0.6731 - val_loss: 0.6076 - val_acc: 0.6393\n",
            "Epoch 66/100\n",
            "9/9 [==============================] - 0s 6ms/step - loss: 0.6001 - acc: 0.6471 - val_loss: 0.6004 - val_acc: 0.6284\n",
            "Epoch 67/100\n",
            "9/9 [==============================] - 0s 7ms/step - loss: 0.5982 - acc: 0.6799 - val_loss: 0.6215 - val_acc: 0.6339\n",
            "Epoch 68/100\n",
            "9/9 [==============================] - 0s 8ms/step - loss: 0.6040 - acc: 0.6826 - val_loss: 0.6959 - val_acc: 0.5902\n",
            "Epoch 69/100\n",
            "9/9 [==============================] - 0s 9ms/step - loss: 0.6598 - acc: 0.6197 - val_loss: 0.6089 - val_acc: 0.6230\n",
            "Epoch 70/100\n",
            "9/9 [==============================] - 0s 9ms/step - loss: 0.6159 - acc: 0.6826 - val_loss: 0.6067 - val_acc: 0.6393\n",
            "Epoch 71/100\n",
            "9/9 [==============================] - 0s 6ms/step - loss: 0.5979 - acc: 0.6867 - val_loss: 0.6308 - val_acc: 0.6175\n",
            "Epoch 72/100\n",
            "9/9 [==============================] - 0s 8ms/step - loss: 0.6005 - acc: 0.6758 - val_loss: 0.6106 - val_acc: 0.6503\n",
            "Epoch 73/100\n",
            "9/9 [==============================] - 0s 8ms/step - loss: 0.6016 - acc: 0.6607 - val_loss: 0.5993 - val_acc: 0.6448\n",
            "Epoch 74/100\n",
            "9/9 [==============================] - 0s 6ms/step - loss: 0.5946 - acc: 0.6840 - val_loss: 0.6506 - val_acc: 0.6011\n",
            "Epoch 75/100\n",
            "9/9 [==============================] - 0s 8ms/step - loss: 0.6185 - acc: 0.6676 - val_loss: 0.6473 - val_acc: 0.5956\n",
            "Epoch 76/100\n",
            "9/9 [==============================] - 0s 6ms/step - loss: 0.6313 - acc: 0.6457 - val_loss: 0.5955 - val_acc: 0.6230\n",
            "Epoch 77/100\n",
            "9/9 [==============================] - 0s 6ms/step - loss: 0.5995 - acc: 0.6662 - val_loss: 0.5924 - val_acc: 0.6339\n",
            "Epoch 78/100\n",
            "9/9 [==============================] - 0s 8ms/step - loss: 0.5977 - acc: 0.6744 - val_loss: 0.6024 - val_acc: 0.6557\n",
            "Epoch 79/100\n",
            "9/9 [==============================] - 0s 9ms/step - loss: 0.5929 - acc: 0.6785 - val_loss: 0.6501 - val_acc: 0.5847\n",
            "Epoch 80/100\n",
            "9/9 [==============================] - 0s 9ms/step - loss: 0.6357 - acc: 0.6238 - val_loss: 0.6248 - val_acc: 0.6721\n",
            "Epoch 81/100\n",
            "9/9 [==============================] - 0s 6ms/step - loss: 0.6277 - acc: 0.6334 - val_loss: 0.5960 - val_acc: 0.6284\n",
            "Epoch 82/100\n",
            "9/9 [==============================] - 0s 6ms/step - loss: 0.6092 - acc: 0.6758 - val_loss: 0.6069 - val_acc: 0.6339\n",
            "Epoch 83/100\n",
            "9/9 [==============================] - 0s 7ms/step - loss: 0.6068 - acc: 0.6840 - val_loss: 0.6816 - val_acc: 0.6011\n",
            "Epoch 84/100\n",
            "9/9 [==============================] - 0s 8ms/step - loss: 0.6178 - acc: 0.6689 - val_loss: 0.5971 - val_acc: 0.6448\n",
            "Epoch 85/100\n",
            "9/9 [==============================] - 0s 6ms/step - loss: 0.5917 - acc: 0.6676 - val_loss: 0.5939 - val_acc: 0.6557\n",
            "Epoch 86/100\n",
            "9/9 [==============================] - 0s 6ms/step - loss: 0.6038 - acc: 0.6703 - val_loss: 0.5989 - val_acc: 0.6448\n",
            "Epoch 87/100\n",
            "9/9 [==============================] - 0s 6ms/step - loss: 0.5979 - acc: 0.6717 - val_loss: 0.6319 - val_acc: 0.6120\n",
            "Epoch 88/100\n",
            "9/9 [==============================] - 0s 8ms/step - loss: 0.5919 - acc: 0.6895 - val_loss: 0.6127 - val_acc: 0.6448\n",
            "Epoch 89/100\n",
            "9/9 [==============================] - 0s 8ms/step - loss: 0.5934 - acc: 0.6922 - val_loss: 0.5913 - val_acc: 0.6339\n",
            "Epoch 90/100\n",
            "9/9 [==============================] - 0s 7ms/step - loss: 0.5829 - acc: 0.6936 - val_loss: 0.5926 - val_acc: 0.6448\n",
            "Epoch 91/100\n",
            "9/9 [==============================] - 0s 8ms/step - loss: 0.5873 - acc: 0.6867 - val_loss: 0.5916 - val_acc: 0.6284\n",
            "Epoch 92/100\n",
            "9/9 [==============================] - 0s 6ms/step - loss: 0.6127 - acc: 0.6772 - val_loss: 0.6631 - val_acc: 0.5902\n",
            "Epoch 93/100\n",
            "9/9 [==============================] - 0s 6ms/step - loss: 0.6011 - acc: 0.6744 - val_loss: 0.6034 - val_acc: 0.6503\n",
            "Epoch 94/100\n",
            "9/9 [==============================] - 0s 10ms/step - loss: 0.5914 - acc: 0.6826 - val_loss: 0.5951 - val_acc: 0.6339\n",
            "Epoch 95/100\n",
            "9/9 [==============================] - 0s 6ms/step - loss: 0.5802 - acc: 0.7004 - val_loss: 0.5924 - val_acc: 0.6339\n",
            "Epoch 96/100\n",
            "9/9 [==============================] - 0s 6ms/step - loss: 0.5745 - acc: 0.7031 - val_loss: 0.6010 - val_acc: 0.6721\n",
            "Epoch 97/100\n",
            "9/9 [==============================] - 0s 8ms/step - loss: 0.5728 - acc: 0.6977 - val_loss: 0.5911 - val_acc: 0.6503\n",
            "Epoch 98/100\n",
            "9/9 [==============================] - 0s 6ms/step - loss: 0.5747 - acc: 0.7045 - val_loss: 0.6045 - val_acc: 0.6557\n",
            "Epoch 99/100\n",
            "9/9 [==============================] - 0s 8ms/step - loss: 0.5806 - acc: 0.6867 - val_loss: 0.6473 - val_acc: 0.5847\n",
            "Epoch 100/100\n",
            "9/9 [==============================] - 0s 6ms/step - loss: 0.5973 - acc: 0.6717 - val_loss: 0.5891 - val_acc: 0.6448\n"
          ]
        }
      ],
      "source": [
        "model.compile(optimizer = 'Adam', loss ='binary_crossentropy', metrics = ['acc'])\n",
        "model.summary()\n",
        "history = model.fit(x_train, one_hot_train_y, epochs = 100, validation_data=(x_val, one_hot_val_y), batch_size = 90)"
      ]
    },
    {
      "cell_type": "markdown",
      "metadata": {
        "id": "MTPaGdNgsGja"
      },
      "source": [
        "\n",
        "\n",
        "---\n",
        "\n",
        "\n",
        "Użycie wytrenowanego modelu do przewidywania etykiet na danych testowych."
      ]
    },
    {
      "cell_type": "code",
      "execution_count": null,
      "metadata": {
        "colab": {
          "base_uri": "https://localhost:8080/"
        },
        "id": "YHHuCeOgbl_9",
        "outputId": "5d28d51c-7f4c-4e78-a54f-4765b64eef79"
      },
      "outputs": [
        {
          "output_type": "stream",
          "name": "stdout",
          "text": [
            "8/8 [==============================] - 0s 2ms/step\n"
          ]
        }
      ],
      "source": [
        "result = model.predict(x_test)"
      ]
    },
    {
      "cell_type": "markdown",
      "metadata": {
        "id": "bPos3t2zsbv8"
      },
      "source": [
        "\n",
        "\n",
        "---\n",
        "\n",
        "\n",
        "1.   Wybranie indeksu z największą wartością z wyników przewidywań, aby otrzymać końcową etykietę.\n",
        "2.   Wyliczenie i wyświetlenie dokładności przewidywań modelu.\n",
        "\n",
        "\n",
        "\n"
      ]
    },
    {
      "cell_type": "code",
      "execution_count": null,
      "metadata": {
        "colab": {
          "base_uri": "https://localhost:8080/"
        },
        "id": "nl6cJJQogEzB",
        "outputId": "119153bd-80cd-476d-c262-8601e7215734"
      },
      "outputs": [
        {
          "output_type": "stream",
          "name": "stdout",
          "text": [
            "0.6506550218340611\n"
          ]
        }
      ],
      "source": [
        "prediction = np.argmax(result, axis = 1)\n",
        "proc = prediction[prediction==y_test]\n",
        "print(len(proc)/len(y_test))"
      ]
    },
    {
      "cell_type": "code",
      "execution_count": 1,
      "metadata": {
        "colab": {
          "base_uri": "https://localhost:8080/",
          "height": 251
        },
        "id": "iSG14rzxDeNP",
        "outputId": "b6daf71a-f3e2-4106-f2e4-26914c77b05d"
      },
      "outputs": [
        {
          "output_type": "error",
          "ename": "NameError",
          "evalue": "name 'plt' is not defined",
          "traceback": [
            "\u001b[0;31m---------------------------------------------------------------------------\u001b[0m",
            "\u001b[0;31mNameError\u001b[0m                                 Traceback (most recent call last)",
            "\u001b[0;32m<ipython-input-1-9b7679985565>\u001b[0m in \u001b[0;36m<cell line: 3>\u001b[0;34m()\u001b[0m\n\u001b[1;32m      1\u001b[0m \u001b[0;32mfrom\u001b[0m \u001b[0msklearn\u001b[0m\u001b[0;34m.\u001b[0m\u001b[0mmetrics\u001b[0m \u001b[0;32mimport\u001b[0m \u001b[0mconfusion_matrix\u001b[0m\u001b[0;34m,\u001b[0m \u001b[0mroc_curve\u001b[0m\u001b[0;34m,\u001b[0m \u001b[0mauc\u001b[0m\u001b[0;34m\u001b[0m\u001b[0;34m\u001b[0m\u001b[0m\n\u001b[1;32m      2\u001b[0m \u001b[0;34m\u001b[0m\u001b[0m\n\u001b[0;32m----> 3\u001b[0;31m \u001b[0mplt\u001b[0m\u001b[0;34m.\u001b[0m\u001b[0mfigure\u001b[0m\u001b[0;34m(\u001b[0m\u001b[0mfigsize\u001b[0m\u001b[0;34m=\u001b[0m\u001b[0;34m(\u001b[0m\u001b[0;36m16\u001b[0m\u001b[0;34m,\u001b[0m \u001b[0;36m6\u001b[0m\u001b[0;34m)\u001b[0m\u001b[0;34m)\u001b[0m\u001b[0;34m\u001b[0m\u001b[0;34m\u001b[0m\u001b[0m\n\u001b[0m\u001b[1;32m      4\u001b[0m \u001b[0;34m\u001b[0m\u001b[0m\n\u001b[1;32m      5\u001b[0m \u001b[0;31m# Wykres historii dokładności i straty\u001b[0m\u001b[0;34m\u001b[0m\u001b[0;34m\u001b[0m\u001b[0m\n",
            "\u001b[0;31mNameError\u001b[0m: name 'plt' is not defined"
          ]
        }
      ],
      "source": []
    },
    {
      "cell_type": "markdown",
      "metadata": {
        "id": "AzU_PcTNtiCk"
      },
      "source": [
        "\n",
        "\n",
        "---\n",
        "\n",
        "Funkcja szukająca nalepszych parametrów dla modelu"
      ]
    },
    {
      "cell_type": "code",
      "execution_count": null,
      "metadata": {
        "id": "E4kMdzeSZpEG"
      },
      "outputs": [],
      "source": [
        "# from keras.callbacks import EarlyStopping, LearningRateScheduler\n",
        "\n",
        "# early_stopping = EarlyStopping(monitor='val_loss',\n",
        "#                                patience=3,\n",
        "#                                restore_best_weights=True,\n",
        "#                                mode='min',\n",
        "#                               )"
      ]
    },
    {
      "cell_type": "code",
      "execution_count": null,
      "metadata": {
        "id": "XMAe0aFRtVbo"
      },
      "outputs": [],
      "source": [
        "# from itertools import product\n",
        "\n",
        "# def best_network_config(x_train, y_train, x_test, y_test, x_val, y_val, layers_range, neurons_range, epochs=10, batch_size=32):\n",
        "#     best_accuracy = 0.0\n",
        "#     best_config = None\n",
        "#     accuracy_data = []\n",
        "\n",
        "#     for num_layers in range(layers_range[0], layers_range[1] + 1):\n",
        "#         layer_data = []\n",
        "\n",
        "#         for neurons_list in product(range(neurons_range[0], neurons_range[1] + 1), repeat=num_layers):\n",
        "#             print(\"Training model with {} layers and neurons per layer: {}...\".format(num_layers,neurons_list))\n",
        "\n",
        "#             # Model\n",
        "#             model = models.Sequential()\n",
        "#             model.add(layers.Dense(neurons_list[0], activation='relu', input_shape=(11,)))\n",
        "#             for neurons in neurons_list[1:]:\n",
        "#                 model.add(layers.Dense(neurons, activation='relu'))\n",
        "#             model.add(layers.Dense(6, activation='sigmoid'))\n",
        "\n",
        "#             # Kompilacja\n",
        "#             model.compile(optimizer='Adam', loss='binary_crossentropy', metrics=['accuracy'])\n",
        "#             history = model.fit(x_train, one_hot_train_y, epochs=epochs, validation_data=(x_val, one_hot_val_y),  batch_size=batch_size, verbose=1, callbacks = [early_stopping])\n",
        "\n",
        "#             # Test\n",
        "#             loss, accuracy = model.evaluate(x_test, y_test)\n",
        "#             print(\"Test accuracy for {} layers and neurons per layer {}: {}\\n\".format(num_layers,neurons_list,accuracy))\n",
        "\n",
        "#             # Zapis\n",
        "#             layer_data.append((neurons_list, accuracy))\n",
        "\n",
        "#             if accuracy > best_accuracy:\n",
        "#                 best_accuracy = accuracy\n",
        "#                 best_config = (num_layers, neurons_list)\n",
        "\n",
        "#         accuracy_data.append(layer_data)\n",
        "\n",
        "#     print(\"Best configuration found: {} with accuracy: {}\".format(best_config, best_accuracy))\n",
        "#     return best_config, best_accuracy, accuracy_data\n"
      ]
    },
    {
      "cell_type": "code",
      "execution_count": null,
      "metadata": {
        "id": "iEusHmrrtXvD"
      },
      "outputs": [],
      "source": [
        "# layers_range = (1, 3)\n",
        "# neurons_range = (64, 72)\n",
        "\n",
        "# best_config, best_accuracy, accuracy_data = best_network_config(x_train, one_hot_train_y, x_test, one_hot_test_y, x_val, one_hot_val_y, layers_range, neurons_range)\n"
      ]
    },
    {
      "cell_type": "code",
      "execution_count": null,
      "metadata": {
        "id": "rng6QyhKx9jV"
      },
      "outputs": [],
      "source": [
        "# print(best_config)\n",
        "# print(best_accuracy)\n",
        "# print(accuracy_data[2])"
      ]
    }
  ],
  "metadata": {
    "accelerator": "TPU",
    "colab": {
      "provenance": [],
      "include_colab_link": true
    },
    "kernelspec": {
      "display_name": "Python 3",
      "name": "python3"
    },
    "language_info": {
      "name": "python"
    }
  },
  "nbformat": 4,
  "nbformat_minor": 0
}